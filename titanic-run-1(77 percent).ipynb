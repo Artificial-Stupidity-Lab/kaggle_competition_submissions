{
 "cells": [
  {
   "cell_type": "code",
   "execution_count": 1,
   "id": "3b3b6a87",
   "metadata": {
    "_cell_guid": "b1076dfc-b9ad-4769-8c92-a6c4dae69d19",
    "_uuid": "8f2839f25d086af736a60e9eeb907d3b93b6e0e5",
    "execution": {
     "iopub.execute_input": "2022-12-22T15:30:40.022559Z",
     "iopub.status.busy": "2022-12-22T15:30:40.021794Z",
     "iopub.status.idle": "2022-12-22T15:30:40.038019Z",
     "shell.execute_reply": "2022-12-22T15:30:40.036020Z"
    },
    "papermill": {
     "duration": 0.038141,
     "end_time": "2022-12-22T15:30:40.041218",
     "exception": false,
     "start_time": "2022-12-22T15:30:40.003077",
     "status": "completed"
    },
    "tags": []
   },
   "outputs": [
    {
     "name": "stdout",
     "output_type": "stream",
     "text": [
      "/kaggle/input/titanic/train.csv\n",
      "/kaggle/input/titanic/test.csv\n",
      "/kaggle/input/titanic/gender_submission.csv\n",
      "Setup Complete\n"
     ]
    }
   ],
   "source": [
    "# This Python 3 environment comes with many helpful analytics libraries installed\n",
    "# It is defined by the kaggle/python Docker image: https://github.com/kaggle/docker-python\n",
    "# For example, here's several helpful packages to load\n",
    "\n",
    "import numpy as np # linear algebra\n",
    "import pandas as pd # data processing, CSV file I/O (e.g. pd.read_csv)\n",
    "\n",
    "# Input data files are available in the read-only \"../input/\" directory\n",
    "# For example, running this (by clicking run or pressing Shift+Enter) will list all files under the input directory\n",
    "\n",
    "import os\n",
    "for dirname, _, filenames in os.walk('/kaggle/input'):\n",
    "    for filename in filenames:\n",
    "        print(os.path.join(dirname, filename))\n",
    "\n",
    "# You can write up to 20GB to the current directory (/kaggle/working/) that gets preserved as output when you create a version using \"Save & Run All\" \n",
    "# You can also write temporary files to /kaggle/temp/, but they won't be saved outside of the current session\n",
    "print(\"Setup Complete\")"
   ]
  },
  {
   "cell_type": "markdown",
   "id": "a367a5fe",
   "metadata": {
    "papermill": {
     "duration": 0.010564,
     "end_time": "2022-12-22T15:30:40.061887",
     "exception": false,
     "start_time": "2022-12-22T15:30:40.051323",
     "status": "completed"
    },
    "tags": []
   },
   "source": [
    "# Steps to be followed to solve this problem\n",
    "1. **Data Exploration**"
   ]
  },
  {
   "cell_type": "markdown",
   "id": "3e379cbd",
   "metadata": {
    "papermill": {
     "duration": 0.011618,
     "end_time": "2022-12-22T15:30:40.084068",
     "exception": false,
     "start_time": "2022-12-22T15:30:40.072450",
     "status": "completed"
    },
    "tags": []
   },
   "source": [
    "**1.Data Exploration**"
   ]
  },
  {
   "cell_type": "code",
   "execution_count": 2,
   "id": "9ecbf8fd",
   "metadata": {
    "execution": {
     "iopub.execute_input": "2022-12-22T15:30:40.108026Z",
     "iopub.status.busy": "2022-12-22T15:30:40.107099Z",
     "iopub.status.idle": "2022-12-22T15:30:40.157024Z",
     "shell.execute_reply": "2022-12-22T15:30:40.155728Z"
    },
    "papermill": {
     "duration": 0.067805,
     "end_time": "2022-12-22T15:30:40.162616",
     "exception": false,
     "start_time": "2022-12-22T15:30:40.094811",
     "status": "completed"
    },
    "tags": []
   },
   "outputs": [
    {
     "name": "stdout",
     "output_type": "stream",
     "text": [
      "code executed\n"
     ]
    }
   ],
   "source": [
    "#reading the data\n",
    "import pandas as pd\n",
    "data_train = pd.read_csv('/kaggle/input/titanic/train.csv', index_col=\"PassengerId\")\n",
    "data_test = pd.read_csv('/kaggle/input/titanic/test.csv',index_col=\"PassengerId\")\n",
    "\n",
    "print(\"code executed\")"
   ]
  },
  {
   "cell_type": "code",
   "execution_count": 3,
   "id": "791e3471",
   "metadata": {
    "execution": {
     "iopub.execute_input": "2022-12-22T15:30:40.188565Z",
     "iopub.status.busy": "2022-12-22T15:30:40.187683Z",
     "iopub.status.idle": "2022-12-22T15:30:40.198415Z",
     "shell.execute_reply": "2022-12-22T15:30:40.197110Z"
    },
    "papermill": {
     "duration": 0.028473,
     "end_time": "2022-12-22T15:30:40.203329",
     "exception": false,
     "start_time": "2022-12-22T15:30:40.174856",
     "status": "completed"
    },
    "tags": []
   },
   "outputs": [
    {
     "data": {
      "text/plain": [
       "Index(['Survived', 'Pclass', 'Name', 'Sex', 'Age', 'SibSp', 'Parch', 'Ticket',\n",
       "       'Fare', 'Cabin', 'Embarked'],\n",
       "      dtype='object')"
      ]
     },
     "execution_count": 3,
     "metadata": {},
     "output_type": "execute_result"
    }
   ],
   "source": [
    "#viewing the columns\n",
    "data_train.columns"
   ]
  },
  {
   "cell_type": "code",
   "execution_count": 4,
   "id": "11bb037a",
   "metadata": {
    "execution": {
     "iopub.execute_input": "2022-12-22T15:30:40.232018Z",
     "iopub.status.busy": "2022-12-22T15:30:40.230576Z",
     "iopub.status.idle": "2022-12-22T15:30:40.285261Z",
     "shell.execute_reply": "2022-12-22T15:30:40.283957Z"
    },
    "papermill": {
     "duration": 0.072342,
     "end_time": "2022-12-22T15:30:40.288668",
     "exception": false,
     "start_time": "2022-12-22T15:30:40.216326",
     "status": "completed"
    },
    "tags": []
   },
   "outputs": [
    {
     "data": {
      "text/html": [
       "<div>\n",
       "<style scoped>\n",
       "    .dataframe tbody tr th:only-of-type {\n",
       "        vertical-align: middle;\n",
       "    }\n",
       "\n",
       "    .dataframe tbody tr th {\n",
       "        vertical-align: top;\n",
       "    }\n",
       "\n",
       "    .dataframe thead th {\n",
       "        text-align: right;\n",
       "    }\n",
       "</style>\n",
       "<table border=\"1\" class=\"dataframe\">\n",
       "  <thead>\n",
       "    <tr style=\"text-align: right;\">\n",
       "      <th></th>\n",
       "      <th>Survived</th>\n",
       "      <th>Pclass</th>\n",
       "      <th>Age</th>\n",
       "      <th>SibSp</th>\n",
       "      <th>Parch</th>\n",
       "      <th>Fare</th>\n",
       "    </tr>\n",
       "  </thead>\n",
       "  <tbody>\n",
       "    <tr>\n",
       "      <th>count</th>\n",
       "      <td>891.000000</td>\n",
       "      <td>891.000000</td>\n",
       "      <td>714.000000</td>\n",
       "      <td>891.000000</td>\n",
       "      <td>891.000000</td>\n",
       "      <td>891.000000</td>\n",
       "    </tr>\n",
       "    <tr>\n",
       "      <th>mean</th>\n",
       "      <td>0.383838</td>\n",
       "      <td>2.308642</td>\n",
       "      <td>29.699118</td>\n",
       "      <td>0.523008</td>\n",
       "      <td>0.381594</td>\n",
       "      <td>32.204208</td>\n",
       "    </tr>\n",
       "    <tr>\n",
       "      <th>std</th>\n",
       "      <td>0.486592</td>\n",
       "      <td>0.836071</td>\n",
       "      <td>14.526497</td>\n",
       "      <td>1.102743</td>\n",
       "      <td>0.806057</td>\n",
       "      <td>49.693429</td>\n",
       "    </tr>\n",
       "    <tr>\n",
       "      <th>min</th>\n",
       "      <td>0.000000</td>\n",
       "      <td>1.000000</td>\n",
       "      <td>0.420000</td>\n",
       "      <td>0.000000</td>\n",
       "      <td>0.000000</td>\n",
       "      <td>0.000000</td>\n",
       "    </tr>\n",
       "    <tr>\n",
       "      <th>25%</th>\n",
       "      <td>0.000000</td>\n",
       "      <td>2.000000</td>\n",
       "      <td>20.125000</td>\n",
       "      <td>0.000000</td>\n",
       "      <td>0.000000</td>\n",
       "      <td>7.910400</td>\n",
       "    </tr>\n",
       "    <tr>\n",
       "      <th>50%</th>\n",
       "      <td>0.000000</td>\n",
       "      <td>3.000000</td>\n",
       "      <td>28.000000</td>\n",
       "      <td>0.000000</td>\n",
       "      <td>0.000000</td>\n",
       "      <td>14.454200</td>\n",
       "    </tr>\n",
       "    <tr>\n",
       "      <th>75%</th>\n",
       "      <td>1.000000</td>\n",
       "      <td>3.000000</td>\n",
       "      <td>38.000000</td>\n",
       "      <td>1.000000</td>\n",
       "      <td>0.000000</td>\n",
       "      <td>31.000000</td>\n",
       "    </tr>\n",
       "    <tr>\n",
       "      <th>max</th>\n",
       "      <td>1.000000</td>\n",
       "      <td>3.000000</td>\n",
       "      <td>80.000000</td>\n",
       "      <td>8.000000</td>\n",
       "      <td>6.000000</td>\n",
       "      <td>512.329200</td>\n",
       "    </tr>\n",
       "  </tbody>\n",
       "</table>\n",
       "</div>"
      ],
      "text/plain": [
       "         Survived      Pclass         Age       SibSp       Parch        Fare\n",
       "count  891.000000  891.000000  714.000000  891.000000  891.000000  891.000000\n",
       "mean     0.383838    2.308642   29.699118    0.523008    0.381594   32.204208\n",
       "std      0.486592    0.836071   14.526497    1.102743    0.806057   49.693429\n",
       "min      0.000000    1.000000    0.420000    0.000000    0.000000    0.000000\n",
       "25%      0.000000    2.000000   20.125000    0.000000    0.000000    7.910400\n",
       "50%      0.000000    3.000000   28.000000    0.000000    0.000000   14.454200\n",
       "75%      1.000000    3.000000   38.000000    1.000000    0.000000   31.000000\n",
       "max      1.000000    3.000000   80.000000    8.000000    6.000000  512.329200"
      ]
     },
     "execution_count": 4,
     "metadata": {},
     "output_type": "execute_result"
    }
   ],
   "source": [
    "#summary of data\n",
    "data_train.describe()"
   ]
  },
  {
   "cell_type": "code",
   "execution_count": 5,
   "id": "cd4457b5",
   "metadata": {
    "execution": {
     "iopub.execute_input": "2022-12-22T15:30:40.313991Z",
     "iopub.status.busy": "2022-12-22T15:30:40.313156Z",
     "iopub.status.idle": "2022-12-22T15:30:40.331792Z",
     "shell.execute_reply": "2022-12-22T15:30:40.330750Z"
    },
    "papermill": {
     "duration": 0.034148,
     "end_time": "2022-12-22T15:30:40.334684",
     "exception": false,
     "start_time": "2022-12-22T15:30:40.300536",
     "status": "completed"
    },
    "tags": []
   },
   "outputs": [
    {
     "data": {
      "text/html": [
       "<div>\n",
       "<style scoped>\n",
       "    .dataframe tbody tr th:only-of-type {\n",
       "        vertical-align: middle;\n",
       "    }\n",
       "\n",
       "    .dataframe tbody tr th {\n",
       "        vertical-align: top;\n",
       "    }\n",
       "\n",
       "    .dataframe thead th {\n",
       "        text-align: right;\n",
       "    }\n",
       "</style>\n",
       "<table border=\"1\" class=\"dataframe\">\n",
       "  <thead>\n",
       "    <tr style=\"text-align: right;\">\n",
       "      <th></th>\n",
       "      <th>Survived</th>\n",
       "      <th>Pclass</th>\n",
       "      <th>Name</th>\n",
       "      <th>Sex</th>\n",
       "      <th>Age</th>\n",
       "      <th>SibSp</th>\n",
       "      <th>Parch</th>\n",
       "      <th>Ticket</th>\n",
       "      <th>Fare</th>\n",
       "      <th>Cabin</th>\n",
       "      <th>Embarked</th>\n",
       "    </tr>\n",
       "    <tr>\n",
       "      <th>PassengerId</th>\n",
       "      <th></th>\n",
       "      <th></th>\n",
       "      <th></th>\n",
       "      <th></th>\n",
       "      <th></th>\n",
       "      <th></th>\n",
       "      <th></th>\n",
       "      <th></th>\n",
       "      <th></th>\n",
       "      <th></th>\n",
       "      <th></th>\n",
       "    </tr>\n",
       "  </thead>\n",
       "  <tbody>\n",
       "    <tr>\n",
       "      <th>1</th>\n",
       "      <td>0</td>\n",
       "      <td>3</td>\n",
       "      <td>Braund, Mr. Owen Harris</td>\n",
       "      <td>male</td>\n",
       "      <td>22.0</td>\n",
       "      <td>1</td>\n",
       "      <td>0</td>\n",
       "      <td>A/5 21171</td>\n",
       "      <td>7.2500</td>\n",
       "      <td>NaN</td>\n",
       "      <td>S</td>\n",
       "    </tr>\n",
       "    <tr>\n",
       "      <th>2</th>\n",
       "      <td>1</td>\n",
       "      <td>1</td>\n",
       "      <td>Cumings, Mrs. John Bradley (Florence Briggs Th...</td>\n",
       "      <td>female</td>\n",
       "      <td>38.0</td>\n",
       "      <td>1</td>\n",
       "      <td>0</td>\n",
       "      <td>PC 17599</td>\n",
       "      <td>71.2833</td>\n",
       "      <td>C85</td>\n",
       "      <td>C</td>\n",
       "    </tr>\n",
       "    <tr>\n",
       "      <th>3</th>\n",
       "      <td>1</td>\n",
       "      <td>3</td>\n",
       "      <td>Heikkinen, Miss. Laina</td>\n",
       "      <td>female</td>\n",
       "      <td>26.0</td>\n",
       "      <td>0</td>\n",
       "      <td>0</td>\n",
       "      <td>STON/O2. 3101282</td>\n",
       "      <td>7.9250</td>\n",
       "      <td>NaN</td>\n",
       "      <td>S</td>\n",
       "    </tr>\n",
       "    <tr>\n",
       "      <th>4</th>\n",
       "      <td>1</td>\n",
       "      <td>1</td>\n",
       "      <td>Futrelle, Mrs. Jacques Heath (Lily May Peel)</td>\n",
       "      <td>female</td>\n",
       "      <td>35.0</td>\n",
       "      <td>1</td>\n",
       "      <td>0</td>\n",
       "      <td>113803</td>\n",
       "      <td>53.1000</td>\n",
       "      <td>C123</td>\n",
       "      <td>S</td>\n",
       "    </tr>\n",
       "    <tr>\n",
       "      <th>5</th>\n",
       "      <td>0</td>\n",
       "      <td>3</td>\n",
       "      <td>Allen, Mr. William Henry</td>\n",
       "      <td>male</td>\n",
       "      <td>35.0</td>\n",
       "      <td>0</td>\n",
       "      <td>0</td>\n",
       "      <td>373450</td>\n",
       "      <td>8.0500</td>\n",
       "      <td>NaN</td>\n",
       "      <td>S</td>\n",
       "    </tr>\n",
       "  </tbody>\n",
       "</table>\n",
       "</div>"
      ],
      "text/plain": [
       "             Survived  Pclass  \\\n",
       "PassengerId                     \n",
       "1                   0       3   \n",
       "2                   1       1   \n",
       "3                   1       3   \n",
       "4                   1       1   \n",
       "5                   0       3   \n",
       "\n",
       "                                                          Name     Sex   Age  \\\n",
       "PassengerId                                                                    \n",
       "1                                      Braund, Mr. Owen Harris    male  22.0   \n",
       "2            Cumings, Mrs. John Bradley (Florence Briggs Th...  female  38.0   \n",
       "3                                       Heikkinen, Miss. Laina  female  26.0   \n",
       "4                 Futrelle, Mrs. Jacques Heath (Lily May Peel)  female  35.0   \n",
       "5                                     Allen, Mr. William Henry    male  35.0   \n",
       "\n",
       "             SibSp  Parch            Ticket     Fare Cabin Embarked  \n",
       "PassengerId                                                          \n",
       "1                1      0         A/5 21171   7.2500   NaN        S  \n",
       "2                1      0          PC 17599  71.2833   C85        C  \n",
       "3                0      0  STON/O2. 3101282   7.9250   NaN        S  \n",
       "4                1      0            113803  53.1000  C123        S  \n",
       "5                0      0            373450   8.0500   NaN        S  "
      ]
     },
     "execution_count": 5,
     "metadata": {},
     "output_type": "execute_result"
    }
   ],
   "source": [
    "#vieweing the data\n",
    "data_train.head()"
   ]
  },
  {
   "cell_type": "code",
   "execution_count": 6,
   "id": "d6c77118",
   "metadata": {
    "execution": {
     "iopub.execute_input": "2022-12-22T15:30:40.359150Z",
     "iopub.status.busy": "2022-12-22T15:30:40.358518Z",
     "iopub.status.idle": "2022-12-22T15:30:40.367188Z",
     "shell.execute_reply": "2022-12-22T15:30:40.365944Z"
    },
    "papermill": {
     "duration": 0.023605,
     "end_time": "2022-12-22T15:30:40.369866",
     "exception": false,
     "start_time": "2022-12-22T15:30:40.346261",
     "status": "completed"
    },
    "tags": []
   },
   "outputs": [
    {
     "name": "stdout",
     "output_type": "stream",
     "text": [
      "The objects of the data are:\n",
      "\n",
      " ['Name', 'Sex', 'Ticket', 'Cabin', 'Embarked']\n",
      "\n",
      "The numerics of the data are:\n",
      "\n",
      " ['Survived', 'Pclass', 'Age', 'SibSp', 'Parch', 'Fare']\n"
     ]
    }
   ],
   "source": [
    "# Categorical columns in the training data\n",
    "object_cols = [col for col in data_train.columns if data_train[col].dtype == \"object\"]\n",
    "num_cols = [col for col in data_train.columns if data_train[col].dtype != \"object\"]\n",
    "print(f\"The objects of the data are:\")\n",
    "print(\"\\n\",object_cols)\n",
    "print(f\"\\nThe numerics of the data are:\")\n",
    "print(\"\\n\",num_cols)"
   ]
  },
  {
   "cell_type": "code",
   "execution_count": 7,
   "id": "dfb4ec7b",
   "metadata": {
    "execution": {
     "iopub.execute_input": "2022-12-22T15:30:40.395247Z",
     "iopub.status.busy": "2022-12-22T15:30:40.394506Z",
     "iopub.status.idle": "2022-12-22T15:30:40.405063Z",
     "shell.execute_reply": "2022-12-22T15:30:40.403575Z"
    },
    "papermill": {
     "duration": 0.027757,
     "end_time": "2022-12-22T15:30:40.408693",
     "exception": false,
     "start_time": "2022-12-22T15:30:40.380936",
     "status": "completed"
    },
    "tags": []
   },
   "outputs": [
    {
     "name": "stdout",
     "output_type": "stream",
     "text": [
      "(891, 11)\n",
      "Age         177\n",
      "Cabin       687\n",
      "Embarked      2\n",
      "dtype: int64\n",
      "\n",
      "Missing Data by percentage\n"
     ]
    }
   ],
   "source": [
    "#summarising the columns with missing data\n",
    "# Shape of training data (num_rows, num_columns)\n",
    "print(data_train.shape)\n",
    "\n",
    "# Number of missing values in each column of training data\n",
    "missing_val_count_by_column = (data_train.isnull().sum())\n",
    "print(missing_val_count_by_column[missing_val_count_by_column > 0])\n",
    "print(\"\\nMissing Data by percentage\")\n"
   ]
  },
  {
   "cell_type": "markdown",
   "id": "a7c875fe",
   "metadata": {
    "papermill": {
     "duration": 0.010686,
     "end_time": "2022-12-22T15:30:40.431918",
     "exception": false,
     "start_time": "2022-12-22T15:30:40.421232",
     "status": "completed"
    },
    "tags": []
   },
   "source": [
    "**Report on initiall data exploration**\n",
    "\n",
    "* We want to predict the survived column (y) using the rest of the colums (x)\n",
    "* Most of the people on board were young, 75% below 35 years\n",
    "* Roughly 25% of the people survived\n",
    "* Half of the people were in p class 3(the cheapest)\n",
    "* 75% were traveling alone, no spouse, sibling or parent\n",
    "* Ticket is an alphanumeric variable, will be dropped\n",
    "* Cabin has more than half of its data missing, will be dropped\n",
    "* Name will be dropped, too many uniqiue values, no correlation\n",
    "\n",
    "**************VALUES TO DROP**************\n",
    "* Ticket\n",
    "* Cabin\n",
    "* Name\n",
    "\n",
    "**************VALUES TO CONVERT TO NUMS**************\n",
    "* Sex\n",
    "* Embarked\n",
    "\n"
   ]
  },
  {
   "cell_type": "code",
   "execution_count": 8,
   "id": "94bd61d1",
   "metadata": {
    "execution": {
     "iopub.execute_input": "2022-12-22T15:30:40.457356Z",
     "iopub.status.busy": "2022-12-22T15:30:40.456323Z",
     "iopub.status.idle": "2022-12-22T15:30:40.477482Z",
     "shell.execute_reply": "2022-12-22T15:30:40.476234Z"
    },
    "papermill": {
     "duration": 0.036511,
     "end_time": "2022-12-22T15:30:40.480389",
     "exception": false,
     "start_time": "2022-12-22T15:30:40.443878",
     "status": "completed"
    },
    "tags": []
   },
   "outputs": [
    {
     "data": {
      "text/html": [
       "<div>\n",
       "<style scoped>\n",
       "    .dataframe tbody tr th:only-of-type {\n",
       "        vertical-align: middle;\n",
       "    }\n",
       "\n",
       "    .dataframe tbody tr th {\n",
       "        vertical-align: top;\n",
       "    }\n",
       "\n",
       "    .dataframe thead th {\n",
       "        text-align: right;\n",
       "    }\n",
       "</style>\n",
       "<table border=\"1\" class=\"dataframe\">\n",
       "  <thead>\n",
       "    <tr style=\"text-align: right;\">\n",
       "      <th></th>\n",
       "      <th>Survived</th>\n",
       "      <th>Pclass</th>\n",
       "      <th>Sex</th>\n",
       "      <th>Age</th>\n",
       "      <th>SibSp</th>\n",
       "      <th>Parch</th>\n",
       "      <th>Fare</th>\n",
       "      <th>Embarked</th>\n",
       "    </tr>\n",
       "    <tr>\n",
       "      <th>PassengerId</th>\n",
       "      <th></th>\n",
       "      <th></th>\n",
       "      <th></th>\n",
       "      <th></th>\n",
       "      <th></th>\n",
       "      <th></th>\n",
       "      <th></th>\n",
       "      <th></th>\n",
       "    </tr>\n",
       "  </thead>\n",
       "  <tbody>\n",
       "    <tr>\n",
       "      <th>1</th>\n",
       "      <td>0</td>\n",
       "      <td>3</td>\n",
       "      <td>male</td>\n",
       "      <td>22.0</td>\n",
       "      <td>1</td>\n",
       "      <td>0</td>\n",
       "      <td>7.2500</td>\n",
       "      <td>S</td>\n",
       "    </tr>\n",
       "    <tr>\n",
       "      <th>2</th>\n",
       "      <td>1</td>\n",
       "      <td>1</td>\n",
       "      <td>female</td>\n",
       "      <td>38.0</td>\n",
       "      <td>1</td>\n",
       "      <td>0</td>\n",
       "      <td>71.2833</td>\n",
       "      <td>C</td>\n",
       "    </tr>\n",
       "    <tr>\n",
       "      <th>3</th>\n",
       "      <td>1</td>\n",
       "      <td>3</td>\n",
       "      <td>female</td>\n",
       "      <td>26.0</td>\n",
       "      <td>0</td>\n",
       "      <td>0</td>\n",
       "      <td>7.9250</td>\n",
       "      <td>S</td>\n",
       "    </tr>\n",
       "    <tr>\n",
       "      <th>4</th>\n",
       "      <td>1</td>\n",
       "      <td>1</td>\n",
       "      <td>female</td>\n",
       "      <td>35.0</td>\n",
       "      <td>1</td>\n",
       "      <td>0</td>\n",
       "      <td>53.1000</td>\n",
       "      <td>S</td>\n",
       "    </tr>\n",
       "    <tr>\n",
       "      <th>5</th>\n",
       "      <td>0</td>\n",
       "      <td>3</td>\n",
       "      <td>male</td>\n",
       "      <td>35.0</td>\n",
       "      <td>0</td>\n",
       "      <td>0</td>\n",
       "      <td>8.0500</td>\n",
       "      <td>S</td>\n",
       "    </tr>\n",
       "  </tbody>\n",
       "</table>\n",
       "</div>"
      ],
      "text/plain": [
       "             Survived  Pclass     Sex   Age  SibSp  Parch     Fare Embarked\n",
       "PassengerId                                                                \n",
       "1                   0       3    male  22.0      1      0   7.2500        S\n",
       "2                   1       1  female  38.0      1      0  71.2833        C\n",
       "3                   1       3  female  26.0      0      0   7.9250        S\n",
       "4                   1       1  female  35.0      1      0  53.1000        S\n",
       "5                   0       3    male  35.0      0      0   8.0500        S"
      ]
     },
     "execution_count": 8,
     "metadata": {},
     "output_type": "execute_result"
    }
   ],
   "source": [
    "#Drop the values to drop\n",
    "bad_label_cols = [\"Ticket\", \"Cabin\", \"Name\"]\n",
    "data_train = data_train.drop(bad_label_cols, axis=1)\n",
    "data_test = data_test.drop(bad_label_cols, axis=1)\n",
    "combined_df = data_train.copy()\n",
    "data_train.head()\n"
   ]
  },
  {
   "cell_type": "markdown",
   "id": "f0fc58fe",
   "metadata": {
    "papermill": {
     "duration": 0.011214,
     "end_time": "2022-12-22T15:30:40.502996",
     "exception": false,
     "start_time": "2022-12-22T15:30:40.491782",
     "status": "completed"
    },
    "tags": []
   },
   "source": [
    "**Naming our target and features**"
   ]
  },
  {
   "cell_type": "code",
   "execution_count": 9,
   "id": "ba437154",
   "metadata": {
    "execution": {
     "iopub.execute_input": "2022-12-22T15:30:40.529696Z",
     "iopub.status.busy": "2022-12-22T15:30:40.528948Z",
     "iopub.status.idle": "2022-12-22T15:30:41.886190Z",
     "shell.execute_reply": "2022-12-22T15:30:41.884887Z"
    },
    "papermill": {
     "duration": 1.373435,
     "end_time": "2022-12-22T15:30:41.888856",
     "exception": false,
     "start_time": "2022-12-22T15:30:40.515421",
     "status": "completed"
    },
    "tags": []
   },
   "outputs": [
    {
     "name": "stdout",
     "output_type": "stream",
     "text": [
      "Code Executed\n"
     ]
    }
   ],
   "source": [
    "import pandas as pd\n",
    "from sklearn.model_selection import train_test_split\n",
    "\n",
    "# Remove rows with missing target, separate target from predictors\n",
    "y = data_train['Survived']\n",
    "X = data_train[['Sex',\n",
    "                'Embarked',\n",
    "                'Pclass', \n",
    "                'Age', \n",
    "                'SibSp', \n",
    "                'Parch', \n",
    "                'Fare']]\n",
    "\n",
    "\n",
    "# Break off validation set from training data\n",
    "X_train, X_valid, y_train, y_valid = train_test_split(X, y, train_size=0.8, test_size=0.2,\n",
    "                                                      random_state=0)\n",
    "print(\"Code Executed\")"
   ]
  },
  {
   "cell_type": "markdown",
   "id": "b820ab8c",
   "metadata": {
    "papermill": {
     "duration": 0.010628,
     "end_time": "2022-12-22T15:30:41.911372",
     "exception": false,
     "start_time": "2022-12-22T15:30:41.900744",
     "status": "completed"
    },
    "tags": []
   },
   "source": [
    "**Preprocessing the data**\n",
    "\n",
    "1. OrdinalEncoding\n",
    "2. Imputation"
   ]
  },
  {
   "cell_type": "markdown",
   "id": "f74a3192",
   "metadata": {
    "papermill": {
     "duration": 0.013403,
     "end_time": "2022-12-22T15:30:41.935531",
     "exception": false,
     "start_time": "2022-12-22T15:30:41.922128",
     "status": "completed"
    },
    "tags": []
   },
   "source": [
    "**1. Ordinal Encoding**"
   ]
  },
  {
   "cell_type": "code",
   "execution_count": 10,
   "id": "66e4473d",
   "metadata": {
    "execution": {
     "iopub.execute_input": "2022-12-22T15:30:41.958900Z",
     "iopub.status.busy": "2022-12-22T15:30:41.958303Z",
     "iopub.status.idle": "2022-12-22T15:30:41.972648Z",
     "shell.execute_reply": "2022-12-22T15:30:41.971632Z"
    },
    "papermill": {
     "duration": 0.030053,
     "end_time": "2022-12-22T15:30:41.976191",
     "exception": false,
     "start_time": "2022-12-22T15:30:41.946138",
     "status": "completed"
    },
    "tags": []
   },
   "outputs": [
    {
     "name": "stdout",
     "output_type": "stream",
     "text": [
      "Code Executed\n"
     ]
    }
   ],
   "source": [
    "from sklearn.preprocessing import OrdinalEncoder\n",
    "#defining cols that will undergo ordinal transformation\n",
    "good_label_cols = ['Sex', 'Embarked']\n",
    "# Apply ordinal encoder \n",
    "ordinal_encoder = OrdinalEncoder()\n",
    "X_train[good_label_cols] = ordinal_encoder.fit_transform(X_train[good_label_cols])\n",
    "X_valid[good_label_cols] = ordinal_encoder.transform(X_valid[good_label_cols])\n",
    "print(\"Code Executed\")"
   ]
  },
  {
   "cell_type": "markdown",
   "id": "c14a0ba0",
   "metadata": {
    "papermill": {
     "duration": 0.010603,
     "end_time": "2022-12-22T15:30:41.998278",
     "exception": false,
     "start_time": "2022-12-22T15:30:41.987675",
     "status": "completed"
    },
    "tags": []
   },
   "source": [
    "**2. Imputation**"
   ]
  },
  {
   "cell_type": "code",
   "execution_count": 11,
   "id": "2ccfc933",
   "metadata": {
    "execution": {
     "iopub.execute_input": "2022-12-22T15:30:42.022376Z",
     "iopub.status.busy": "2022-12-22T15:30:42.021686Z",
     "iopub.status.idle": "2022-12-22T15:30:42.204944Z",
     "shell.execute_reply": "2022-12-22T15:30:42.203530Z"
    },
    "papermill": {
     "duration": 0.197903,
     "end_time": "2022-12-22T15:30:42.207470",
     "exception": false,
     "start_time": "2022-12-22T15:30:42.009567",
     "status": "completed"
    },
    "tags": []
   },
   "outputs": [
    {
     "name": "stdout",
     "output_type": "stream",
     "text": [
      "Code Executed\n"
     ]
    }
   ],
   "source": [
    "from sklearn.impute import SimpleImputer\n",
    "\n",
    "# Fill in the lines below: imputation\n",
    "my_imputer = SimpleImputer() # Your code here\n",
    "imputed_X_train = pd.DataFrame(my_imputer.fit_transform(X_train))\n",
    "imputed_X_valid = pd.DataFrame(my_imputer.transform(X_valid))\n",
    "\n",
    "# Fill in the lines below: imputation removed column names; put them back\n",
    "imputed_X_train.columns = X_train.columns\n",
    "imputed_X_valid.columns = X_valid.columns\n",
    "print(\"Code Executed\")"
   ]
  },
  {
   "cell_type": "markdown",
   "id": "a3865522",
   "metadata": {
    "papermill": {
     "duration": 0.010823,
     "end_time": "2022-12-22T15:30:42.229366",
     "exception": false,
     "start_time": "2022-12-22T15:30:42.218543",
     "status": "completed"
    },
    "tags": []
   },
   "source": [
    "**Function for calculating MAE**"
   ]
  },
  {
   "cell_type": "code",
   "execution_count": 12,
   "id": "b0f16386",
   "metadata": {
    "execution": {
     "iopub.execute_input": "2022-12-22T15:30:42.254538Z",
     "iopub.status.busy": "2022-12-22T15:30:42.253759Z",
     "iopub.status.idle": "2022-12-22T15:30:42.375778Z",
     "shell.execute_reply": "2022-12-22T15:30:42.374329Z"
    },
    "papermill": {
     "duration": 0.138042,
     "end_time": "2022-12-22T15:30:42.378369",
     "exception": false,
     "start_time": "2022-12-22T15:30:42.240327",
     "status": "completed"
    },
    "tags": []
   },
   "outputs": [
    {
     "name": "stdout",
     "output_type": "stream",
     "text": [
      "Code Executed\n"
     ]
    }
   ],
   "source": [
    "from sklearn.ensemble import RandomForestClassifier\n",
    "from sklearn.metrics import mean_absolute_error\n",
    "\n",
    "# Function for comparing different approaches\n",
    "def score_dataset(X_train, X_valid, y_train, y_valid, n_estimators):\n",
    "    model = RandomForestClassifier(n_estimators, max_depth = 10,random_state=0)\n",
    "    model.fit(X_train, y_train)\n",
    "    preds = model.predict(X_valid)\n",
    "    return mean_absolute_error(y_valid, preds)\n",
    "print(\"Code Executed\")"
   ]
  },
  {
   "cell_type": "code",
   "execution_count": 13,
   "id": "93dc0031",
   "metadata": {
    "execution": {
     "iopub.execute_input": "2022-12-22T15:30:42.403749Z",
     "iopub.status.busy": "2022-12-22T15:30:42.403281Z",
     "iopub.status.idle": "2022-12-22T15:30:42.421035Z",
     "shell.execute_reply": "2022-12-22T15:30:42.419792Z"
    },
    "papermill": {
     "duration": 0.033819,
     "end_time": "2022-12-22T15:30:42.423823",
     "exception": false,
     "start_time": "2022-12-22T15:30:42.390004",
     "status": "completed"
    },
    "tags": []
   },
   "outputs": [
    {
     "data": {
      "text/html": [
       "<div>\n",
       "<style scoped>\n",
       "    .dataframe tbody tr th:only-of-type {\n",
       "        vertical-align: middle;\n",
       "    }\n",
       "\n",
       "    .dataframe tbody tr th {\n",
       "        vertical-align: top;\n",
       "    }\n",
       "\n",
       "    .dataframe thead th {\n",
       "        text-align: right;\n",
       "    }\n",
       "</style>\n",
       "<table border=\"1\" class=\"dataframe\">\n",
       "  <thead>\n",
       "    <tr style=\"text-align: right;\">\n",
       "      <th></th>\n",
       "      <th>Sex</th>\n",
       "      <th>Embarked</th>\n",
       "      <th>Pclass</th>\n",
       "      <th>Age</th>\n",
       "      <th>SibSp</th>\n",
       "      <th>Parch</th>\n",
       "      <th>Fare</th>\n",
       "    </tr>\n",
       "  </thead>\n",
       "  <tbody>\n",
       "    <tr>\n",
       "      <th>0</th>\n",
       "      <td>0.0</td>\n",
       "      <td>0.0</td>\n",
       "      <td>3.0</td>\n",
       "      <td>29.745184</td>\n",
       "      <td>0.0</td>\n",
       "      <td>2.0</td>\n",
       "      <td>15.2458</td>\n",
       "    </tr>\n",
       "    <tr>\n",
       "      <th>1</th>\n",
       "      <td>1.0</td>\n",
       "      <td>2.0</td>\n",
       "      <td>2.0</td>\n",
       "      <td>31.000000</td>\n",
       "      <td>0.0</td>\n",
       "      <td>0.0</td>\n",
       "      <td>10.5000</td>\n",
       "    </tr>\n",
       "    <tr>\n",
       "      <th>2</th>\n",
       "      <td>1.0</td>\n",
       "      <td>0.0</td>\n",
       "      <td>2.0</td>\n",
       "      <td>31.000000</td>\n",
       "      <td>1.0</td>\n",
       "      <td>1.0</td>\n",
       "      <td>37.0042</td>\n",
       "    </tr>\n",
       "    <tr>\n",
       "      <th>3</th>\n",
       "      <td>1.0</td>\n",
       "      <td>0.0</td>\n",
       "      <td>3.0</td>\n",
       "      <td>20.000000</td>\n",
       "      <td>0.0</td>\n",
       "      <td>0.0</td>\n",
       "      <td>4.0125</td>\n",
       "    </tr>\n",
       "    <tr>\n",
       "      <th>4</th>\n",
       "      <td>1.0</td>\n",
       "      <td>2.0</td>\n",
       "      <td>3.0</td>\n",
       "      <td>21.000000</td>\n",
       "      <td>0.0</td>\n",
       "      <td>0.0</td>\n",
       "      <td>7.2500</td>\n",
       "    </tr>\n",
       "  </tbody>\n",
       "</table>\n",
       "</div>"
      ],
      "text/plain": [
       "   Sex  Embarked  Pclass        Age  SibSp  Parch     Fare\n",
       "0  0.0       0.0     3.0  29.745184    0.0    2.0  15.2458\n",
       "1  1.0       2.0     2.0  31.000000    0.0    0.0  10.5000\n",
       "2  1.0       0.0     2.0  31.000000    1.0    1.0  37.0042\n",
       "3  1.0       0.0     3.0  20.000000    0.0    0.0   4.0125\n",
       "4  1.0       2.0     3.0  21.000000    0.0    0.0   7.2500"
      ]
     },
     "execution_count": 13,
     "metadata": {},
     "output_type": "execute_result"
    }
   ],
   "source": [
    "#Looking at the data after evrything has been done\n",
    "X_train = imputed_X_train\n",
    "X_valid = imputed_X_valid\n",
    "X_train.head()"
   ]
  },
  {
   "cell_type": "code",
   "execution_count": 14,
   "id": "26c04b38",
   "metadata": {
    "execution": {
     "iopub.execute_input": "2022-12-22T15:30:42.448132Z",
     "iopub.status.busy": "2022-12-22T15:30:42.446822Z",
     "iopub.status.idle": "2022-12-22T15:30:43.083926Z",
     "shell.execute_reply": "2022-12-22T15:30:43.082487Z"
    },
    "papermill": {
     "duration": 0.652087,
     "end_time": "2022-12-22T15:30:43.086751",
     "exception": false,
     "start_time": "2022-12-22T15:30:42.434664",
     "status": "completed"
    },
    "tags": []
   },
   "outputs": [
    {
     "name": "stderr",
     "output_type": "stream",
     "text": [
      "/opt/conda/lib/python3.7/site-packages/sklearn/base.py:493: FutureWarning: The feature names should match those that were passed during fit. Starting version 1.2, an error will be raised.\n",
      "Feature names must be in the same order as they were in fit.\n",
      "\n",
      "  warnings.warn(message, FutureWarning)\n"
     ]
    },
    {
     "data": {
      "text/plain": [
       "<AxesSubplot:>"
      ]
     },
     "execution_count": 14,
     "metadata": {},
     "output_type": "execute_result"
    },
    {
     "data": {
      "image/png": "[encoded data removed]",
      "text/plain": [
       "<Figure size 432x288 with 2 Axes>"
      ]
     },
     "metadata": {
      "needs_background": "light"
     },
     "output_type": "display_data"
    }
   ],
   "source": [
    "#viewing correlation between data point\n",
    "import seaborn as sns\n",
    "import matplotlib.pyplot as plt\n",
    "#brnging back the combined df to work wth to view the correlation\n",
    "combined_df = combined_df.drop(\"Survived\", axis=1)\n",
    "combined_df[good_label_cols] = ordinal_encoder.transform(combined_df[good_label_cols])\n",
    "imputed_combined_df = pd.DataFrame(my_imputer.transform(combined_df))\n",
    "imputed_combined_df.columns = combined_df.columns\n",
    "imputed_combined_df[\"Survived\"] = data_train[\"Survived\"]\n",
    "imputed_combined_df[\"Survived\"][0] = 0\n",
    "imputed_combined_df.corr()\n",
    "sns.heatmap(imputed_combined_df.corr())"
   ]
  },
  {
   "cell_type": "code",
   "execution_count": 15,
   "id": "33f24180",
   "metadata": {
    "execution": {
     "iopub.execute_input": "2022-12-22T15:30:43.114826Z",
     "iopub.status.busy": "2022-12-22T15:30:43.113915Z",
     "iopub.status.idle": "2022-12-22T15:30:43.475192Z",
     "shell.execute_reply": "2022-12-22T15:30:43.473960Z"
    },
    "papermill": {
     "duration": 0.379356,
     "end_time": "2022-12-22T15:30:43.478081",
     "exception": false,
     "start_time": "2022-12-22T15:30:43.098725",
     "status": "completed"
    },
    "tags": []
   },
   "outputs": [
    {
     "data": {
      "image/png": "[encoded data removed]",
      "text/plain": [
       "<Figure size 576x864 with 2 Axes>"
      ]
     },
     "metadata": {
      "needs_background": "light"
     },
     "output_type": "display_data"
    }
   ],
   "source": [
    "plt.figure(figsize=(8, 12))\n",
    "heatmap = sns.heatmap(imputed_combined_df.corr()[['Survived']].sort_values(by='Survived', ascending=False), vmin=-1, vmax=1, annot=True, cmap='BrBG')\n",
    "heatmap.set_title('Features Correlating with Survival Rate', fontdict={'fontsize':18}, pad=16);"
   ]
  },
  {
   "cell_type": "markdown",
   "id": "957daee4",
   "metadata": {
    "papermill": {
     "duration": 0.011583,
     "end_time": "2022-12-22T15:30:43.503009",
     "exception": false,
     "start_time": "2022-12-22T15:30:43.491426",
     "status": "completed"
    },
    "tags": []
   },
   "source": [
    "**Observations**\n",
    "\n",
    "Very little correlation between features and the target"
   ]
  },
  {
   "cell_type": "markdown",
   "id": "8c6ce7b2",
   "metadata": {
    "papermill": {
     "duration": 0.011547,
     "end_time": "2022-12-22T15:30:43.526600",
     "exception": false,
     "start_time": "2022-12-22T15:30:43.515053",
     "status": "completed"
    },
    "tags": []
   },
   "source": [
    "**Fitting and training**"
   ]
  },
  {
   "cell_type": "code",
   "execution_count": 16,
   "id": "654ff9b6",
   "metadata": {
    "execution": {
     "iopub.execute_input": "2022-12-22T15:30:43.553246Z",
     "iopub.status.busy": "2022-12-22T15:30:43.552804Z",
     "iopub.status.idle": "2022-12-22T15:30:55.616013Z",
     "shell.execute_reply": "2022-12-22T15:30:55.614712Z"
    },
    "papermill": {
     "duration": 12.079846,
     "end_time": "2022-12-22T15:30:55.619259",
     "exception": false,
     "start_time": "2022-12-22T15:30:43.539413",
     "status": "completed"
    },
    "tags": []
   },
   "outputs": [
    {
     "name": "stdout",
     "output_type": "stream",
     "text": [
      "0.2011173184357542\n",
      "0.16201117318435754\n",
      "0.17318435754189945\n",
      "0.16201117318435754\n",
      "0.1564245810055866\n",
      "0.15083798882681565\n",
      "0.1564245810055866\n"
     ]
    }
   ],
   "source": [
    "from sklearn.ensemble import RandomForestRegressor\n",
    "\n",
    "# Define the models\n",
    "print(score_dataset(X_train, X_valid, y_train, y_valid, 1))\n",
    "print(score_dataset(X_train, X_valid, y_train, y_valid, 5))\n",
    "print(score_dataset(X_train, X_valid, y_train, y_valid, 25))\n",
    "print(score_dataset(X_train, X_valid, y_train, y_valid, 50))\n",
    "print(score_dataset(X_train, X_valid, y_train, y_valid, 100))\n",
    "print(score_dataset(X_train, X_valid, y_train, y_valid, 500))\n",
    "print(score_dataset(X_train, X_valid, y_train, y_valid, 5000))"
   ]
  },
  {
   "cell_type": "markdown",
   "id": "941908c6",
   "metadata": {
    "papermill": {
     "duration": 0.012003,
     "end_time": "2022-12-22T15:30:55.643520",
     "exception": false,
     "start_time": "2022-12-22T15:30:55.631517",
     "status": "completed"
    },
    "tags": []
   },
   "source": [
    "Best N-estimators = 5."
   ]
  },
  {
   "cell_type": "markdown",
   "id": "83009425",
   "metadata": {
    "papermill": {
     "duration": 0.011883,
     "end_time": "2022-12-22T15:30:55.667675",
     "exception": false,
     "start_time": "2022-12-22T15:30:55.655792",
     "status": "completed"
    },
    "tags": []
   },
   "source": [
    "**Final Part**\n",
    "\n",
    "* Fit\n",
    "* Predict"
   ]
  },
  {
   "cell_type": "code",
   "execution_count": 17,
   "id": "3100537e",
   "metadata": {
    "execution": {
     "iopub.execute_input": "2022-12-22T15:30:55.694717Z",
     "iopub.status.busy": "2022-12-22T15:30:55.694200Z",
     "iopub.status.idle": "2022-12-22T15:30:56.683237Z",
     "shell.execute_reply": "2022-12-22T15:30:56.681623Z"
    },
    "papermill": {
     "duration": 1.006035,
     "end_time": "2022-12-22T15:30:56.685918",
     "exception": false,
     "start_time": "2022-12-22T15:30:55.679883",
     "status": "completed"
    },
    "tags": []
   },
   "outputs": [
    {
     "name": "stdout",
     "output_type": "stream",
     "text": [
      "Code Executed\n"
     ]
    }
   ],
   "source": [
    "#fit the model\n",
    "my_model = RandomForestClassifier(n_estimators=500, max_depth = 10, random_state=0)\n",
    "my_model.fit(X_train,y_train)\n",
    "print(\"Code Executed\")"
   ]
  },
  {
   "cell_type": "code",
   "execution_count": 18,
   "id": "6e047ea2",
   "metadata": {
    "execution": {
     "iopub.execute_input": "2022-12-22T15:30:56.712683Z",
     "iopub.status.busy": "2022-12-22T15:30:56.712127Z",
     "iopub.status.idle": "2022-12-22T15:30:56.802058Z",
     "shell.execute_reply": "2022-12-22T15:30:56.800203Z"
    },
    "papermill": {
     "duration": 0.106263,
     "end_time": "2022-12-22T15:30:56.804798",
     "exception": false,
     "start_time": "2022-12-22T15:30:56.698535",
     "status": "completed"
    },
    "tags": []
   },
   "outputs": [
    {
     "name": "stdout",
     "output_type": "stream",
     "text": [
      "Code Executed\n"
     ]
    }
   ],
   "source": [
    "#validation prediction\n",
    "val_pred = my_model.predict(X_valid)\n",
    "print(\"Code Executed\")"
   ]
  },
  {
   "cell_type": "markdown",
   "id": "34abf8b5",
   "metadata": {
    "papermill": {
     "duration": 0.012838,
     "end_time": "2022-12-22T15:30:56.830905",
     "exception": false,
     "start_time": "2022-12-22T15:30:56.818067",
     "status": "completed"
    },
    "tags": []
   },
   "source": [
    "**Vieweing the predictions**"
   ]
  },
  {
   "cell_type": "code",
   "execution_count": 19,
   "id": "5a39cd6f",
   "metadata": {
    "execution": {
     "iopub.execute_input": "2022-12-22T15:30:56.858137Z",
     "iopub.status.busy": "2022-12-22T15:30:56.857756Z",
     "iopub.status.idle": "2022-12-22T15:30:56.865575Z",
     "shell.execute_reply": "2022-12-22T15:30:56.864239Z"
    },
    "papermill": {
     "duration": 0.024322,
     "end_time": "2022-12-22T15:30:56.868390",
     "exception": false,
     "start_time": "2022-12-22T15:30:56.844068",
     "status": "completed"
    },
    "tags": []
   },
   "outputs": [
    {
     "data": {
      "text/plain": [
       "array([0, 0, 0, 1, 0, 0, 1, 1, 1, 1, 0, 1, 0, 1, 1, 1, 0, 0, 0, 1, 0, 1,\n",
       "       0, 0, 0, 1, 0, 1, 1, 0, 0, 1, 0, 0, 0, 0, 0, 0, 0, 0, 0, 0, 0, 0,\n",
       "       1, 0, 0, 1, 0, 0])"
      ]
     },
     "execution_count": 19,
     "metadata": {},
     "output_type": "execute_result"
    }
   ],
   "source": [
    "val_pred[:50]"
   ]
  },
  {
   "cell_type": "markdown",
   "id": "6f99a4cf",
   "metadata": {
    "papermill": {
     "duration": 0.012746,
     "end_time": "2022-12-22T15:30:56.893865",
     "exception": false,
     "start_time": "2022-12-22T15:30:56.881119",
     "status": "completed"
    },
    "tags": []
   },
   "source": [
    "We had said earlier that around 25% people survived, lets see if the predictions suggest that..."
   ]
  },
  {
   "cell_type": "code",
   "execution_count": 20,
   "id": "4d3f9755",
   "metadata": {
    "execution": {
     "iopub.execute_input": "2022-12-22T15:30:56.921366Z",
     "iopub.status.busy": "2022-12-22T15:30:56.920907Z",
     "iopub.status.idle": "2022-12-22T15:30:56.927859Z",
     "shell.execute_reply": "2022-12-22T15:30:56.926690Z"
    },
    "papermill": {
     "duration": 0.024572,
     "end_time": "2022-12-22T15:30:56.930941",
     "exception": false,
     "start_time": "2022-12-22T15:30:56.906369",
     "status": "completed"
    },
    "tags": []
   },
   "outputs": [
    {
     "name": "stdout",
     "output_type": "stream",
     "text": [
      "There are 179 values in total predicted\n",
      "\n",
      "Survivors predicted is 33.52%\n"
     ]
    }
   ],
   "source": [
    "sum = 0\n",
    "val_count = 0\n",
    "for i in val_pred:\n",
    "    sum+=i\n",
    "    val_count+=1\n",
    "survival_rate_pred = (sum/val_count)*100\n",
    "print(f'There are {val_count} values in total predicted\\n')\n",
    "print(f'Survivors predicted is {survival_rate_pred:.2f}%')\n",
    "    "
   ]
  },
  {
   "cell_type": "markdown",
   "id": "e477f70d",
   "metadata": {
    "papermill": {
     "duration": 0.01216,
     "end_time": "2022-12-22T15:30:56.956154",
     "exception": false,
     "start_time": "2022-12-22T15:30:56.943994",
     "status": "completed"
    },
    "tags": []
   },
   "source": [
    "Doing the same for other factors the numbers from data are as follows:\n",
    "\n",
    "* 37% Survival rate\n",
    "* 61% the percentage of First Class passengers who survived.\n",
    "* 42% the percentage of Standard Class passengers who survived.\n",
    "* 24% the percentage of Third Class passengers who survived.\n",
    "* 74% woman survived.\n",
    "* 52% Children. (<18)\n",
    "* 20% male."
   ]
  },
  {
   "cell_type": "code",
   "execution_count": 21,
   "id": "3505de9c",
   "metadata": {
    "execution": {
     "iopub.execute_input": "2022-12-22T15:30:56.984729Z",
     "iopub.status.busy": "2022-12-22T15:30:56.984341Z",
     "iopub.status.idle": "2022-12-22T15:30:56.992108Z",
     "shell.execute_reply": "2022-12-22T15:30:56.990413Z"
    },
    "papermill": {
     "duration": 0.025022,
     "end_time": "2022-12-22T15:30:56.994736",
     "exception": false,
     "start_time": "2022-12-22T15:30:56.969714",
     "status": "completed"
    },
    "tags": []
   },
   "outputs": [
    {
     "name": "stdout",
     "output_type": "stream",
     "text": [
      "Code Executed\n"
     ]
    }
   ],
   "source": [
    "#creating a function for this\n",
    "#create a function that takes as input, the column we want the % of and the values in that column\n",
    "def per_per_grp(col,col_val):\n",
    "    global X_valid_copy\n",
    "    X_valid_copy = X_valid.copy()\n",
    "    X_valid_copy[\"Predictions\"] = val_pred\n",
    "    #get name of indexes we ae looking for\n",
    "    index_names = X_valid_copy[X_valid_copy[col] != col_val].index\n",
    "    #drop these row from the df\n",
    "    X_valid_copy.drop(index_names,inplace=True)\n",
    "    print(f\"DataFrame has been updated based, new df name: X_valid_copy\")\n",
    "print(\"Code Executed\")"
   ]
  },
  {
   "cell_type": "code",
   "execution_count": 22,
   "id": "d32c76f4",
   "metadata": {
    "execution": {
     "iopub.execute_input": "2022-12-22T15:30:57.024290Z",
     "iopub.status.busy": "2022-12-22T15:30:57.023867Z",
     "iopub.status.idle": "2022-12-22T15:30:57.032016Z",
     "shell.execute_reply": "2022-12-22T15:30:57.030688Z"
    },
    "papermill": {
     "duration": 0.025813,
     "end_time": "2022-12-22T15:30:57.034361",
     "exception": false,
     "start_time": "2022-12-22T15:30:57.008548",
     "status": "completed"
    },
    "tags": []
   },
   "outputs": [
    {
     "name": "stdout",
     "output_type": "stream",
     "text": [
      "DataFrame has been updated based, new df name: X_valid_copy\n"
     ]
    }
   ],
   "source": [
    "#calling the function\n",
    "per_per_grp(\"Sex\",1)"
   ]
  },
  {
   "cell_type": "code",
   "execution_count": 23,
   "id": "211ad77c",
   "metadata": {
    "execution": {
     "iopub.execute_input": "2022-12-22T15:30:57.063270Z",
     "iopub.status.busy": "2022-12-22T15:30:57.062727Z",
     "iopub.status.idle": "2022-12-22T15:30:57.081392Z",
     "shell.execute_reply": "2022-12-22T15:30:57.080150Z"
    },
    "papermill": {
     "duration": 0.037088,
     "end_time": "2022-12-22T15:30:57.084637",
     "exception": false,
     "start_time": "2022-12-22T15:30:57.047549",
     "status": "completed"
    },
    "tags": []
   },
   "outputs": [
    {
     "data": {
      "text/html": [
       "<div>\n",
       "<style scoped>\n",
       "    .dataframe tbody tr th:only-of-type {\n",
       "        vertical-align: middle;\n",
       "    }\n",
       "\n",
       "    .dataframe tbody tr th {\n",
       "        vertical-align: top;\n",
       "    }\n",
       "\n",
       "    .dataframe thead th {\n",
       "        text-align: right;\n",
       "    }\n",
       "</style>\n",
       "<table border=\"1\" class=\"dataframe\">\n",
       "  <thead>\n",
       "    <tr style=\"text-align: right;\">\n",
       "      <th></th>\n",
       "      <th>Sex</th>\n",
       "      <th>Embarked</th>\n",
       "      <th>Pclass</th>\n",
       "      <th>Age</th>\n",
       "      <th>SibSp</th>\n",
       "      <th>Parch</th>\n",
       "      <th>Fare</th>\n",
       "      <th>Predictions</th>\n",
       "    </tr>\n",
       "  </thead>\n",
       "  <tbody>\n",
       "    <tr>\n",
       "      <th>0</th>\n",
       "      <td>1.0</td>\n",
       "      <td>0.0</td>\n",
       "      <td>3.0</td>\n",
       "      <td>29.745184</td>\n",
       "      <td>0.0</td>\n",
       "      <td>0.0</td>\n",
       "      <td>14.4583</td>\n",
       "      <td>0</td>\n",
       "    </tr>\n",
       "    <tr>\n",
       "      <th>1</th>\n",
       "      <td>1.0</td>\n",
       "      <td>2.0</td>\n",
       "      <td>3.0</td>\n",
       "      <td>29.745184</td>\n",
       "      <td>0.0</td>\n",
       "      <td>0.0</td>\n",
       "      <td>7.5500</td>\n",
       "      <td>0</td>\n",
       "    </tr>\n",
       "    <tr>\n",
       "      <th>2</th>\n",
       "      <td>1.0</td>\n",
       "      <td>1.0</td>\n",
       "      <td>3.0</td>\n",
       "      <td>7.000000</td>\n",
       "      <td>4.0</td>\n",
       "      <td>1.0</td>\n",
       "      <td>29.1250</td>\n",
       "      <td>0</td>\n",
       "    </tr>\n",
       "    <tr>\n",
       "      <th>5</th>\n",
       "      <td>1.0</td>\n",
       "      <td>2.0</td>\n",
       "      <td>1.0</td>\n",
       "      <td>29.745184</td>\n",
       "      <td>0.0</td>\n",
       "      <td>0.0</td>\n",
       "      <td>30.5000</td>\n",
       "      <td>0</td>\n",
       "    </tr>\n",
       "    <tr>\n",
       "      <th>8</th>\n",
       "      <td>1.0</td>\n",
       "      <td>0.0</td>\n",
       "      <td>1.0</td>\n",
       "      <td>25.000000</td>\n",
       "      <td>1.0</td>\n",
       "      <td>0.0</td>\n",
       "      <td>91.0792</td>\n",
       "      <td>1</td>\n",
       "    </tr>\n",
       "  </tbody>\n",
       "</table>\n",
       "</div>"
      ],
      "text/plain": [
       "   Sex  Embarked  Pclass        Age  SibSp  Parch     Fare  Predictions\n",
       "0  1.0       0.0     3.0  29.745184    0.0    0.0  14.4583            0\n",
       "1  1.0       2.0     3.0  29.745184    0.0    0.0   7.5500            0\n",
       "2  1.0       1.0     3.0   7.000000    4.0    1.0  29.1250            0\n",
       "5  1.0       2.0     1.0  29.745184    0.0    0.0  30.5000            0\n",
       "8  1.0       0.0     1.0  25.000000    1.0    0.0  91.0792            1"
      ]
     },
     "execution_count": 23,
     "metadata": {},
     "output_type": "execute_result"
    }
   ],
   "source": [
    "#viewing the new df\n",
    "X_valid_copy.head()"
   ]
  },
  {
   "cell_type": "code",
   "execution_count": 24,
   "id": "7be65e59",
   "metadata": {
    "execution": {
     "iopub.execute_input": "2022-12-22T15:30:57.113251Z",
     "iopub.status.busy": "2022-12-22T15:30:57.112754Z",
     "iopub.status.idle": "2022-12-22T15:30:57.121532Z",
     "shell.execute_reply": "2022-12-22T15:30:57.119975Z"
    },
    "papermill": {
     "duration": 0.026047,
     "end_time": "2022-12-22T15:30:57.124240",
     "exception": false,
     "start_time": "2022-12-22T15:30:57.098193",
     "status": "completed"
    },
    "tags": []
   },
   "outputs": [
    {
     "name": "stdout",
     "output_type": "stream",
     "text": [
      "There was a survival rate of 8.035714285714286% amongst this group\n"
     ]
    }
   ],
   "source": [
    "#function that predictis survival rate\n",
    "def per_cal(pred):\n",
    "    summ=0\n",
    "    val__count=0\n",
    "    for i in pred:\n",
    "        summ+=i\n",
    "        val__count+=1\n",
    "    sur_rate = (summ/val__count)*100\n",
    "    print(f\"There was a survival rate of {sur_rate}% amongst this group\")\n",
    "#calling the function\n",
    "per_cal(X_valid_copy[\"Predictions\"])"
   ]
  },
  {
   "cell_type": "markdown",
   "id": "e00c960a",
   "metadata": {
    "papermill": {
     "duration": 0.013662,
     "end_time": "2022-12-22T15:30:57.151456",
     "exception": false,
     "start_time": "2022-12-22T15:30:57.137794",
     "status": "completed"
    },
    "tags": []
   },
   "source": [
    "**Needs some fixing**"
   ]
  },
  {
   "cell_type": "markdown",
   "id": "91cf2e25",
   "metadata": {
    "papermill": {
     "duration": 0.013127,
     "end_time": "2022-12-22T15:30:57.177964",
     "exception": false,
     "start_time": "2022-12-22T15:30:57.164837",
     "status": "completed"
    },
    "tags": []
   },
   "source": [
    "# **PREPROCESS TEST DATA**"
   ]
  },
  {
   "cell_type": "code",
   "execution_count": 25,
   "id": "80151f7f",
   "metadata": {
    "execution": {
     "iopub.execute_input": "2022-12-22T15:30:57.208839Z",
     "iopub.status.busy": "2022-12-22T15:30:57.208418Z",
     "iopub.status.idle": "2022-12-22T15:30:57.227103Z",
     "shell.execute_reply": "2022-12-22T15:30:57.225657Z"
    },
    "papermill": {
     "duration": 0.038019,
     "end_time": "2022-12-22T15:30:57.230108",
     "exception": false,
     "start_time": "2022-12-22T15:30:57.192089",
     "status": "completed"
    },
    "tags": []
   },
   "outputs": [
    {
     "name": "stdout",
     "output_type": "stream",
     "text": [
      "Code Executed\n"
     ]
    }
   ],
   "source": [
    "#but first preprocess the test data\n",
    "#encode the data\n",
    "X_test = data_test[['Sex',\n",
    "                'Embarked',\n",
    "                'Pclass', \n",
    "                'Age', \n",
    "                'SibSp', \n",
    "                'Parch', \n",
    "                'Fare']]\n",
    "X_test[good_label_cols] = ordinal_encoder.transform(X_test[good_label_cols])\n",
    "\n",
    "#now impute the test data\n",
    "# Fill in the lines below: imputation\n",
    "imputed_X_test = pd.DataFrame(my_imputer.transform(X_test))\n",
    "# Fill in the lines below: imputation removed column names; put them back\n",
    "imputed_X_test.columns = X_test.columns\n",
    "print(\"Code Executed\")"
   ]
  },
  {
   "cell_type": "markdown",
   "id": "1b4323d4",
   "metadata": {
    "papermill": {
     "duration": 0.013419,
     "end_time": "2022-12-22T15:30:57.258642",
     "exception": false,
     "start_time": "2022-12-22T15:30:57.245223",
     "status": "completed"
    },
    "tags": []
   },
   "source": [
    "# **PREDICT AND SUBMIT**"
   ]
  },
  {
   "cell_type": "code",
   "execution_count": 26,
   "id": "8c0aeb18",
   "metadata": {
    "execution": {
     "iopub.execute_input": "2022-12-22T15:30:57.289064Z",
     "iopub.status.busy": "2022-12-22T15:30:57.288657Z",
     "iopub.status.idle": "2022-12-22T15:30:57.403623Z",
     "shell.execute_reply": "2022-12-22T15:30:57.401776Z"
    },
    "papermill": {
     "duration": 0.133005,
     "end_time": "2022-12-22T15:30:57.406523",
     "exception": false,
     "start_time": "2022-12-22T15:30:57.273518",
     "status": "completed"
    },
    "tags": []
   },
   "outputs": [
    {
     "name": "stdout",
     "output_type": "stream",
     "text": [
      "Code Executed\n"
     ]
    }
   ],
   "source": [
    "# Get test predictions\n",
    "preds_test = my_model.predict(imputed_X_test)\n",
    "print(\"Code Executed\")"
   ]
  },
  {
   "cell_type": "code",
   "execution_count": 27,
   "id": "4a195033",
   "metadata": {
    "execution": {
     "iopub.execute_input": "2022-12-22T15:30:57.440360Z",
     "iopub.status.busy": "2022-12-22T15:30:57.438960Z",
     "iopub.status.idle": "2022-12-22T15:30:57.454001Z",
     "shell.execute_reply": "2022-12-22T15:30:57.450946Z"
    },
    "papermill": {
     "duration": 0.034301,
     "end_time": "2022-12-22T15:30:57.457341",
     "exception": false,
     "start_time": "2022-12-22T15:30:57.423040",
     "status": "completed"
    },
    "tags": []
   },
   "outputs": [
    {
     "name": "stdout",
     "output_type": "stream",
     "text": [
      "Code Executed\n"
     ]
    }
   ],
   "source": [
    "#submit\n",
    "# Save test predictions to file\n",
    "output = pd.DataFrame({'PassengerId': X_test.index,\n",
    "                       'Survived': preds_test})\n",
    "output.to_csv('submission.csv', index=False)\n",
    "print(\"Code Executed\")"
   ]
  }
 ],
 "metadata": {
  "kernelspec": {
   "display_name": "Python 3",
   "language": "python",
   "name": "python3"
  },
  "language_info": {
   "codemirror_mode": {
    "name": "ipython",
    "version": 3
   },
   "file_extension": ".py",
   "mimetype": "text/x-python",
   "name": "python",
   "nbconvert_exporter": "python",
   "pygments_lexer": "ipython3",
   "version": "3.7.12"
  },
  "papermill": {
   "default_parameters": {},
   "duration": 27.510547,
   "end_time": "2022-12-22T15:30:58.296995",
   "environment_variables": {},
   "exception": null,
   "input_path": "__notebook__.ipynb",
   "output_path": "__notebook__.ipynb",
   "parameters": {},
   "start_time": "2022-12-22T15:30:30.786448",
   "version": "2.3.4"
  }
 },
 "nbformat": 4,
 "nbformat_minor": 5
}
